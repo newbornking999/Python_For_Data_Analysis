{
 "cells": [
  {
   "cell_type": "code",
   "execution_count": 2,
   "metadata": {},
   "outputs": [],
   "source": [
    "import numpy as np\n",
    "import pandas as pd\n",
    "import matplotlib.pyplot as plt\n",
    "%matplotlib inline"
   ]
  },
  {
   "cell_type": "code",
   "execution_count": 4,
   "metadata": {},
   "outputs": [],
   "source": [
    "#Create the Data Frame\n",
    "df = pd.DataFrame(np.random.rand(10,4),columns=['A','B','C','D'])"
   ]
  },
  {
   "cell_type": "code",
   "execution_count": 5,
   "metadata": {},
   "outputs": [
    {
     "data": {
      "text/html": [
       "<div>\n",
       "<table border=\"1\" class=\"dataframe\">\n",
       "  <thead>\n",
       "    <tr style=\"text-align: right;\">\n",
       "      <th></th>\n",
       "      <th>A</th>\n",
       "      <th>B</th>\n",
       "      <th>C</th>\n",
       "      <th>D</th>\n",
       "    </tr>\n",
       "  </thead>\n",
       "  <tbody>\n",
       "    <tr>\n",
       "      <th>0</th>\n",
       "      <td>0.720911</td>\n",
       "      <td>0.051062</td>\n",
       "      <td>0.569506</td>\n",
       "      <td>0.561523</td>\n",
       "    </tr>\n",
       "    <tr>\n",
       "      <th>1</th>\n",
       "      <td>0.173205</td>\n",
       "      <td>0.995628</td>\n",
       "      <td>0.364326</td>\n",
       "      <td>0.022229</td>\n",
       "    </tr>\n",
       "    <tr>\n",
       "      <th>2</th>\n",
       "      <td>0.097346</td>\n",
       "      <td>0.250697</td>\n",
       "      <td>0.162018</td>\n",
       "      <td>0.493700</td>\n",
       "    </tr>\n",
       "    <tr>\n",
       "      <th>3</th>\n",
       "      <td>0.170719</td>\n",
       "      <td>0.923676</td>\n",
       "      <td>0.397296</td>\n",
       "      <td>0.297974</td>\n",
       "    </tr>\n",
       "    <tr>\n",
       "      <th>4</th>\n",
       "      <td>0.818420</td>\n",
       "      <td>0.928873</td>\n",
       "      <td>0.137527</td>\n",
       "      <td>0.806111</td>\n",
       "    </tr>\n",
       "    <tr>\n",
       "      <th>5</th>\n",
       "      <td>0.650068</td>\n",
       "      <td>0.235212</td>\n",
       "      <td>0.252791</td>\n",
       "      <td>0.146483</td>\n",
       "    </tr>\n",
       "    <tr>\n",
       "      <th>6</th>\n",
       "      <td>0.569207</td>\n",
       "      <td>0.134996</td>\n",
       "      <td>0.136063</td>\n",
       "      <td>0.101821</td>\n",
       "    </tr>\n",
       "    <tr>\n",
       "      <th>7</th>\n",
       "      <td>0.203528</td>\n",
       "      <td>0.462884</td>\n",
       "      <td>0.755895</td>\n",
       "      <td>0.522374</td>\n",
       "    </tr>\n",
       "    <tr>\n",
       "      <th>8</th>\n",
       "      <td>0.886962</td>\n",
       "      <td>0.096898</td>\n",
       "      <td>0.280188</td>\n",
       "      <td>0.186875</td>\n",
       "    </tr>\n",
       "    <tr>\n",
       "      <th>9</th>\n",
       "      <td>0.928016</td>\n",
       "      <td>0.423726</td>\n",
       "      <td>0.603306</td>\n",
       "      <td>0.462995</td>\n",
       "    </tr>\n",
       "  </tbody>\n",
       "</table>\n",
       "</div>"
      ],
      "text/plain": [
       "          A         B         C         D\n",
       "0  0.720911  0.051062  0.569506  0.561523\n",
       "1  0.173205  0.995628  0.364326  0.022229\n",
       "2  0.097346  0.250697  0.162018  0.493700\n",
       "3  0.170719  0.923676  0.397296  0.297974\n",
       "4  0.818420  0.928873  0.137527  0.806111\n",
       "5  0.650068  0.235212  0.252791  0.146483\n",
       "6  0.569207  0.134996  0.136063  0.101821\n",
       "7  0.203528  0.462884  0.755895  0.522374\n",
       "8  0.886962  0.096898  0.280188  0.186875\n",
       "9  0.928016  0.423726  0.603306  0.462995"
      ]
     },
     "execution_count": 5,
     "metadata": {},
     "output_type": "execute_result"
    }
   ],
   "source": [
    "df"
   ]
  },
  {
   "cell_type": "code",
   "execution_count": 6,
   "metadata": {},
   "outputs": [
    {
     "data": {
      "text/plain": [
       "A    float64\n",
       "B    float64\n",
       "C    float64\n",
       "D    float64\n",
       "dtype: object"
      ]
     },
     "execution_count": 6,
     "metadata": {},
     "output_type": "execute_result"
    }
   ],
   "source": [
    "#Looking at the Data type\n",
    "df.dtypes"
   ]
  },
  {
   "cell_type": "code",
   "execution_count": 7,
   "metadata": {},
   "outputs": [
    {
     "data": {
      "text/html": [
       "<div>\n",
       "<table border=\"1\" class=\"dataframe\">\n",
       "  <thead>\n",
       "    <tr style=\"text-align: right;\">\n",
       "      <th></th>\n",
       "      <th>A</th>\n",
       "      <th>B</th>\n",
       "      <th>C</th>\n",
       "      <th>D</th>\n",
       "    </tr>\n",
       "  </thead>\n",
       "  <tbody>\n",
       "    <tr>\n",
       "      <th>0</th>\n",
       "      <td>0.720911</td>\n",
       "      <td>0.051062</td>\n",
       "      <td>0.569506</td>\n",
       "      <td>0.561523</td>\n",
       "    </tr>\n",
       "    <tr>\n",
       "      <th>1</th>\n",
       "      <td>0.173205</td>\n",
       "      <td>0.995628</td>\n",
       "      <td>0.364326</td>\n",
       "      <td>0.022229</td>\n",
       "    </tr>\n",
       "    <tr>\n",
       "      <th>2</th>\n",
       "      <td>0.097346</td>\n",
       "      <td>0.250697</td>\n",
       "      <td>0.162018</td>\n",
       "      <td>0.493700</td>\n",
       "    </tr>\n",
       "    <tr>\n",
       "      <th>3</th>\n",
       "      <td>0.170719</td>\n",
       "      <td>0.923676</td>\n",
       "      <td>0.397296</td>\n",
       "      <td>0.297974</td>\n",
       "    </tr>\n",
       "    <tr>\n",
       "      <th>4</th>\n",
       "      <td>0.818420</td>\n",
       "      <td>0.928873</td>\n",
       "      <td>0.137527</td>\n",
       "      <td>0.806111</td>\n",
       "    </tr>\n",
       "  </tbody>\n",
       "</table>\n",
       "</div>"
      ],
      "text/plain": [
       "          A         B         C         D\n",
       "0  0.720911  0.051062  0.569506  0.561523\n",
       "1  0.173205  0.995628  0.364326  0.022229\n",
       "2  0.097346  0.250697  0.162018  0.493700\n",
       "3  0.170719  0.923676  0.397296  0.297974\n",
       "4  0.818420  0.928873  0.137527  0.806111"
      ]
     },
     "execution_count": 7,
     "metadata": {},
     "output_type": "execute_result"
    }
   ],
   "source": [
    "df.head()"
   ]
  },
  {
   "cell_type": "code",
   "execution_count": 9,
   "metadata": {},
   "outputs": [
    {
     "data": {
      "text/plain": [
       "RangeIndex(start=0, stop=10, step=1)"
      ]
     },
     "execution_count": 9,
     "metadata": {},
     "output_type": "execute_result"
    }
   ],
   "source": [
    "#show index\n",
    "df.index"
   ]
  },
  {
   "cell_type": "code",
   "execution_count": 10,
   "metadata": {},
   "outputs": [
    {
     "data": {
      "text/plain": [
       "Index(['A', 'B', 'C', 'D'], dtype='object')"
      ]
     },
     "execution_count": 10,
     "metadata": {},
     "output_type": "execute_result"
    }
   ],
   "source": [
    "df.columns"
   ]
  },
  {
   "cell_type": "code",
   "execution_count": 11,
   "metadata": {},
   "outputs": [
    {
     "data": {
      "text/plain": [
       "array([[ 0.7209105 ,  0.05106221,  0.5695062 ,  0.56152281],\n",
       "       [ 0.17320499,  0.99562831,  0.36432637,  0.02222936],\n",
       "       [ 0.09734594,  0.25069702,  0.16201765,  0.49370005],\n",
       "       [ 0.17071921,  0.92367597,  0.3972957 ,  0.29797405],\n",
       "       [ 0.81842019,  0.92887283,  0.13752683,  0.80611124],\n",
       "       [ 0.65006759,  0.23521223,  0.25279079,  0.14648331],\n",
       "       [ 0.5692066 ,  0.13499644,  0.13606306,  0.10182131],\n",
       "       [ 0.20352828,  0.46288391,  0.75589538,  0.52237394],\n",
       "       [ 0.88696165,  0.09689804,  0.28018834,  0.1868748 ],\n",
       "       [ 0.92801589,  0.42372583,  0.60330559,  0.46299478]])"
      ]
     },
     "execution_count": 11,
     "metadata": {},
     "output_type": "execute_result"
    }
   ],
   "source": [
    "df.values"
   ]
  },
  {
   "cell_type": "code",
   "execution_count": 16,
   "metadata": {},
   "outputs": [
    {
     "name": "stdout",
     "output_type": "stream",
     "text": [
      "          A         B         C         D\n",
      "9  0.928016  0.423726  0.603306  0.462995\n",
      "8  0.886962  0.096898  0.280188  0.186875\n",
      "7  0.203528  0.462884  0.755895  0.522374\n",
      "6  0.569207  0.134996  0.136063  0.101821\n",
      "5  0.650068  0.235212  0.252791  0.146483\n",
      "4  0.818420  0.928873  0.137527  0.806111\n",
      "3  0.170719  0.923676  0.397296  0.297974\n",
      "2  0.097346  0.250697  0.162018  0.493700\n",
      "1  0.173205  0.995628  0.364326  0.022229\n",
      "0  0.720911  0.051062  0.569506  0.561523\n"
     ]
    }
   ],
   "source": [
    "print(df.sort_index(axis=0, ascending=False))"
   ]
  },
  {
   "cell_type": "code",
   "execution_count": 17,
   "metadata": {},
   "outputs": [
    {
     "data": {
      "text/html": [
       "<div>\n",
       "<table border=\"1\" class=\"dataframe\">\n",
       "  <thead>\n",
       "    <tr style=\"text-align: right;\">\n",
       "      <th></th>\n",
       "      <th>A</th>\n",
       "      <th>B</th>\n",
       "      <th>C</th>\n",
       "      <th>D</th>\n",
       "    </tr>\n",
       "  </thead>\n",
       "  <tbody>\n",
       "    <tr>\n",
       "      <th>2</th>\n",
       "      <td>0.097346</td>\n",
       "      <td>0.250697</td>\n",
       "      <td>0.162018</td>\n",
       "      <td>0.493700</td>\n",
       "    </tr>\n",
       "    <tr>\n",
       "      <th>3</th>\n",
       "      <td>0.170719</td>\n",
       "      <td>0.923676</td>\n",
       "      <td>0.397296</td>\n",
       "      <td>0.297974</td>\n",
       "    </tr>\n",
       "    <tr>\n",
       "      <th>1</th>\n",
       "      <td>0.173205</td>\n",
       "      <td>0.995628</td>\n",
       "      <td>0.364326</td>\n",
       "      <td>0.022229</td>\n",
       "    </tr>\n",
       "    <tr>\n",
       "      <th>7</th>\n",
       "      <td>0.203528</td>\n",
       "      <td>0.462884</td>\n",
       "      <td>0.755895</td>\n",
       "      <td>0.522374</td>\n",
       "    </tr>\n",
       "    <tr>\n",
       "      <th>6</th>\n",
       "      <td>0.569207</td>\n",
       "      <td>0.134996</td>\n",
       "      <td>0.136063</td>\n",
       "      <td>0.101821</td>\n",
       "    </tr>\n",
       "    <tr>\n",
       "      <th>5</th>\n",
       "      <td>0.650068</td>\n",
       "      <td>0.235212</td>\n",
       "      <td>0.252791</td>\n",
       "      <td>0.146483</td>\n",
       "    </tr>\n",
       "    <tr>\n",
       "      <th>0</th>\n",
       "      <td>0.720911</td>\n",
       "      <td>0.051062</td>\n",
       "      <td>0.569506</td>\n",
       "      <td>0.561523</td>\n",
       "    </tr>\n",
       "    <tr>\n",
       "      <th>4</th>\n",
       "      <td>0.818420</td>\n",
       "      <td>0.928873</td>\n",
       "      <td>0.137527</td>\n",
       "      <td>0.806111</td>\n",
       "    </tr>\n",
       "    <tr>\n",
       "      <th>8</th>\n",
       "      <td>0.886962</td>\n",
       "      <td>0.096898</td>\n",
       "      <td>0.280188</td>\n",
       "      <td>0.186875</td>\n",
       "    </tr>\n",
       "    <tr>\n",
       "      <th>9</th>\n",
       "      <td>0.928016</td>\n",
       "      <td>0.423726</td>\n",
       "      <td>0.603306</td>\n",
       "      <td>0.462995</td>\n",
       "    </tr>\n",
       "  </tbody>\n",
       "</table>\n",
       "</div>"
      ],
      "text/plain": [
       "          A         B         C         D\n",
       "2  0.097346  0.250697  0.162018  0.493700\n",
       "3  0.170719  0.923676  0.397296  0.297974\n",
       "1  0.173205  0.995628  0.364326  0.022229\n",
       "7  0.203528  0.462884  0.755895  0.522374\n",
       "6  0.569207  0.134996  0.136063  0.101821\n",
       "5  0.650068  0.235212  0.252791  0.146483\n",
       "0  0.720911  0.051062  0.569506  0.561523\n",
       "4  0.818420  0.928873  0.137527  0.806111\n",
       "8  0.886962  0.096898  0.280188  0.186875\n",
       "9  0.928016  0.423726  0.603306  0.462995"
      ]
     },
     "execution_count": 17,
     "metadata": {},
     "output_type": "execute_result"
    }
   ],
   "source": [
    "df.sort_values(by='A')"
   ]
  },
  {
   "cell_type": "code",
   "execution_count": null,
   "metadata": {
    "collapsed": true
   },
   "outputs": [],
   "source": []
  }
 ],
 "metadata": {
  "kernelspec": {
   "display_name": "Python 3",
   "language": "python",
   "name": "python3"
  },
  "language_info": {
   "codemirror_mode": {
    "name": "ipython",
    "version": 3
   },
   "file_extension": ".py",
   "mimetype": "text/x-python",
   "name": "python",
   "nbconvert_exporter": "python",
   "pygments_lexer": "ipython3",
   "version": "3.6.0"
  }
 },
 "nbformat": 4,
 "nbformat_minor": 2
}
